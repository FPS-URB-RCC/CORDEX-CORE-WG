{
 "cells": [
  {
   "cell_type": "code",
   "execution_count": null,
   "id": "73ad55c0-3fdc-42e2-930a-1f303a4466a9",
   "metadata": {},
   "outputs": [],
   "source": [
    "%load_ext autoreload\n",
    "%autoreload 2"
   ]
  },
  {
   "cell_type": "code",
   "execution_count": null,
   "id": "4149be4d-7dbf-45d8-b886-ab8f975bf0ab",
   "metadata": {
    "tags": []
   },
   "outputs": [],
   "source": [
    "from utils import (\n",
    "    cities,\n",
    "    RCM_DICT,\n",
    ")"
   ]
  },
  {
   "cell_type": "code",
   "execution_count": null,
   "id": "e5f11820-fd54-4830-a590-a4ca18f062a0",
   "metadata": {
    "tags": []
   },
   "outputs": [],
   "source": [
    "import papermill as pm\n",
    "import sys\n",
    "import os\n",
    "import glob"
   ]
  },
  {
   "cell_type": "code",
   "execution_count": null,
   "id": "4de073f1-f2ec-4990-92e6-a804809cfa89",
   "metadata": {
    "tags": []
   },
   "outputs": [],
   "source": [
    "input_notebook = 'Cities.ipynb'\n",
    "output_notebook = 'Cities_papermill.ipynb'"
   ]
  },
  {
   "cell_type": "code",
   "execution_count": null,
   "id": "b8a99a20-0875-4826-9fb5-1d8697a3af36",
   "metadata": {
    "tags": []
   },
   "outputs": [],
   "source": [
    "exceptions = [\n",
    "    \"Manila_REMO_SEA-22\", # Urban areas have more than 30 of sea\n",
    "    \"Dhaka_REMO_WAS-22\", # Urban fractions > 0.1 is not available\n",
    "    \"Tokyo_RegCM_EAS-22\", # tasmin not available \n",
    "    \"Beijing_RegCM_EAS-22\", # tasmin not available\n",
    "    \"Chengdu_RegCM_EAS-22\", # tasmin not available\n",
    "    \"Seoul_RegCM_EAS-22\", # tasmin not available\n",
    "    \"Shanghai_RegCM_EAS-22\", # tasmin not available\n",
    "    \"Chengdu_REMO_EAS-22\", # Urban fractions > 0.1 is not available\n",
    "    \"Lagos_REMO_AFR-22\", # Urban fractions > 0.1 is not available\n",
    "    \"Luanda_REMO_AFR-22\", # Urban fractions > 0.1 is not available\n",
    "    \"Luanda_RegCM_AFR-22\", # Urban fractions > 0.1 is not available\n",
    "    \"Khartoum_REMO_AFR-22\", # Urban fractions > 0.1 is not available\n",
    "    \"Naples_REMO_EUR-22\",  # Urban fractions > 0.1 is not available\n",
    "    \"Barcelona_REMO_EUR-11\", # Urban fractions > 0.1 is not available\n",
    "             ]"
   ]
  },
  {
   "cell_type": "code",
   "execution_count": null,
   "id": "2df9bc81-bb6a-41ab-9339-5572a973e79f",
   "metadata": {
    "tags": []
   },
   "outputs": [],
   "source": [
    "for city in cities.keys():\n",
    "    parameters = {\n",
    "    'city': city,\n",
    "    'lon_city': cities[city]['lon'],\n",
    "    'lat_city': cities[city]['lat'],\n",
    "    'domain': cities[city]['domain'],     \n",
    "    }\n",
    "    for model in ['REMO', 'RegCM']:\n",
    "        model_str = RCM_DICT[cities[city]['domain']][model]\n",
    "        print(f\"{city}_{model}_{cities[city]['domain']}\")\n",
    "        parameters['model'] = model\n",
    "        directory = f\"results/{cities[city]['city']}_{cities[city]['domain']}_{model_str}\"\n",
    "        if len(glob.glob(f\"{directory}/*\")) == 6:\n",
    "            continue\n",
    "        if parameters['domain'] == 'EUR-22' and model == 'RegCM':\n",
    "            continue\n",
    "        if f\"{cities[city]['city']}_{model}_{parameters['domain']}\" in exceptions:\n",
    "            continue\n",
    "        else:\n",
    "            try:\n",
    "                pm.execute_notebook(\n",
    "                    input_path=input_notebook,\n",
    "                    output_path=output_notebook,\n",
    "                    parameters=parameters\n",
    "                )\n",
    "            except:\n",
    "                print('error')"
   ]
  },
  {
   "cell_type": "code",
   "execution_count": null,
   "id": "8cb40315-f608-4daa-b63c-1c4e694ee533",
   "metadata": {
    "tags": []
   },
   "outputs": [],
   "source": [
    "for city in cities.keys():\n",
    "    parameters = {\n",
    "    'city': city,\n",
    "    'lon_city': cities[city]['lon'],\n",
    "    'lat_city': cities[city]['lat'],\n",
    "    'domain': cities[city]['domain'],     \n",
    "    }\n",
    "    \n",
    "    model = 'REMO'\n",
    "    domain = 'EUR-22'\n",
    "    if cities[city]['domain'] == 'EUR-11':\n",
    "        parameters['domain'] = 'EUR-22'\n",
    "        parameters['model'] = 'REMO'\n",
    "\n",
    "        model_str = 'GERICS_REMO2015'\n",
    "        print(f\"{city}_{model}_{cities[city]['domain']}\")\n",
    "\n",
    "        directory = f\"results/{cities[city]['city']}_{domain}_{model_str}\"\n",
    "        if len(glob.glob(f\"{directory}/*\")) == 6:\n",
    "            continue\n",
    "        if parameters['domain'] == 'EUR-22' and model == 'RegCM':\n",
    "            continue\n",
    "        if f\"{cities[city]['city']}_{model}_{parameters['domain']}\" in exceptions:\n",
    "            continue\n",
    "        else:\n",
    "            try:\n",
    "                pm.execute_notebook(\n",
    "                    input_path=input_notebook,\n",
    "                    output_path=output_notebook,\n",
    "                    parameters=parameters\n",
    "                )\n",
    "            except:\n",
    "                print('error')"
   ]
  }
 ],
 "metadata": {
  "kernelspec": {
   "display_name": "Python 3 (ipykernel)",
   "language": "python",
   "name": "python3"
  },
  "language_info": {
   "codemirror_mode": {
    "name": "ipython",
    "version": 3
   },
   "file_extension": ".py",
   "mimetype": "text/x-python",
   "name": "python",
   "nbconvert_exporter": "python",
   "pygments_lexer": "ipython3",
   "version": "3.11.5"
  }
 },
 "nbformat": 4,
 "nbformat_minor": 5
}
