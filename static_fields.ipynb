{
 "cells": [
  {
   "cell_type": "markdown",
   "id": "9e4d931b-a312-4558-a05b-b47ec041633d",
   "metadata": {},
   "source": [
    "# Static field plots\n",
    "\n",
    "Depict urban areas as seen by the RCM"
   ]
  },
  {
   "cell_type": "markdown",
   "id": "fe881184-8045-441f-aa12-86734747db2f",
   "metadata": {},
   "source": [
    "comments:\n",
    "1) Urban fraction and orography have different coordenates for NAM-22 (RegCM4)\n",
    "2) Make a function to select the urban fraction with xarray based on the orography (delete buffer)"
   ]
  },
  {
   "cell_type": "code",
   "execution_count": 1,
   "id": "57cfe9aa-ce74-4376-a1d5-c3488dded5b0",
   "metadata": {},
   "outputs": [],
   "source": [
    "import cartopy.crs as ccrs\n",
    "import geopandas as gpd\n",
    "import matplotlib.pyplot as plt\n",
    "import os\n",
    "import pandas as pd\n",
    "import xarray as xr\n",
    "import numpy as np\n",
    "from functools import partial\n",
    "import sys"
   ]
  },
  {
   "cell_type": "code",
   "execution_count": 2,
   "id": "2554fb5c-815d-4b3d-a057-edf7e5b6ebeb",
   "metadata": {},
   "outputs": [],
   "source": [
    "def plot_static_fields(city, cities, dest, model):\n",
    "    lonlat = ccrs.PlateCarree() \n",
    "    proj = lonlat                  ####\n",
    "    f = plt.figure(figsize=(12,9))\n",
    "    ax = plt.axes(projection=proj)\n",
    "    ords.orog.where(lfds.sftlf > land_thres*100).fillna(cities[city]['vmin']).plot(\n",
    "    ax=ax, x='lon', y='lat', transform=lonlat, cmap=plt.cm.terrain, \n",
    "    vmin=cities[city]['vmin'], vmax=cities[city]['vmax'])\n",
    "    ufds.sftuf.where(ufds.sftuf > urban_thres).plot(\n",
    "        ax=ax, x=coords_name(ufds)[0], y=coords_name(ufds)[1], \n",
    "        transform=lonlat, cmap=plt.cm.gray_r, vmin=0, vmax=1\n",
    "    )\n",
    "    ax.set_extent([clon-size, clon+size, clat-size, clat+size], crs=lonlat)\n",
    "    plt.title(f'{ords.model_id} (land-frac > {land_thres}, urb-frac > {urban_thres})')\n",
    "    ax.coastlines(resolution='10m', linewidth=1, color='k')\n",
    "    t = ucdb_city.plot(ax=ax, transform=lonlat, facecolor=\"none\", edgecolor=\"red\")\n",
    "    plt.savefig(dest + 'static_fields_' + city.replace(' ', '') \n",
    "                + '_' + model + '.png',  bbox_inches='tight')\n",
    "    plt.close()"
   ]
  },
  {
   "cell_type": "code",
   "execution_count": 3,
   "id": "1be0b0a2-4dc9-4d5a-9125-a4b57e588e48",
   "metadata": {},
   "outputs": [],
   "source": [
    "def coords_name(ds):\n",
    "    coords = [c for c in ds.coords]\n",
    "    if any(np.in1d(coords, 'lon')):\n",
    "        res = ['lon', 'lat']\n",
    "    elif any(np.in1d(coords, 'xlon')):\n",
    "        res = ['xlon', 'xlat']\n",
    "    return res"
   ]
  },
  {
   "cell_type": "code",
   "execution_count": 4,
   "id": "33f96698-0430-46a2-bb93-3086236a2bc0",
   "metadata": {},
   "outputs": [],
   "source": [
    "cities = {\n",
    "     'Mexico City' : dict(domain = 'CAM-22', vmin= -1000, vmax = 4000),\n",
    "     'Buenos Aires' : dict(domain = 'SAM-22', vmin= -400, vmax = 1000),\n",
    "     'New York' : dict(domain = 'NAM-22', vmin= -400, vmax = 1000),\n",
    "     'Sydney' : dict(domain = 'AUS-22', vmin= -500, vmax = 2000),\n",
    "     'Beijing' : dict(domain = 'EAS-22', vmin= -500, vmax = 2000),\n",
    "     'Tokyo' : dict(domain = 'EAS-22', vmin= -500, vmax = 2000),\n",
    "     'Jakarta' : dict(domain = 'SEA-22', vmin= -500, vmax = 2000),\n",
    "     'Johannesburg' : dict(domain = 'AFR-22', vmin= -500, vmax = 4000), # Pretoria center station\n",
    "     'Riyadh' : dict(domain = 'WAS-22', vmin= -500, vmax = 2000),\n",
    "     'Berlin' : dict(domain = 'EUR-11', vmin= -400, vmax = 1000),\n",
    "     'Paris' : dict(domain = 'EUR-11',  vmin= -1000, vmax = 1000),\n",
    "     'London' : dict(domain = 'EUR-11', vmin= -1000, vmax = 1000),\n",
    "     'Madrid' : dict(domain = 'EUR-11', vmin= -1000, vmax = 2000),\n",
    "     'Los Angeles': dict(domain = 'NAM-22', vmin= -1000, vmax = 4000),\n",
    "     'Montreal': dict(domain = 'NAM-22', vmin= -1000, vmax = 4000),\n",
    "}\n",
    "\n",
    "urban_thres = 0.10\n",
    "land_thres = 0.50\n",
    "size = 3 # degrees plotted around city center"
   ]
  },
  {
   "cell_type": "code",
   "execution_count": 5,
   "id": "92e0acb1-6f9a-4be8-b77e-3687b811d724",
   "metadata": {},
   "outputs": [],
   "source": [
    "root = '/lustre/gmeteo/WORK/DATA/CORDEX-FPS-URB-RCC/nextcloud/'\n",
    "dest = '/home/javi/Research/cordex-fps-urb-rcc/git/CORDEX-CORE-WG/pictures/' # path to save the results\n",
    "os.makedirs(dest,  exist_ok=True)"
   ]
  },
  {
   "cell_type": "code",
   "execution_count": 7,
   "id": "c53fc307-50e4-4151-8d4d-a548a27cbfc8",
   "metadata": {},
   "outputs": [],
   "source": [
    "ucdb_info = gpd.read_file(root + 'CORDEX-CORE-WG/GHS_FUA_UCD/GHS_STAT_UCDB2015MT_GLOBE_R2019A_V1_2.gpkg')"
   ]
  },
  {
   "cell_type": "markdown",
   "id": "9317500f-07f6-4aea-9593-0c41d9d6f80f",
   "metadata": {},
   "source": [
    "## Main Loop"
   ]
  },
  {
   "cell_type": "code",
   "execution_count": 28,
   "id": "e773654a-a678-4d8c-9bbc-5e1670a1df31",
   "metadata": {},
   "outputs": [],
   "source": [
    "for city in cities:\n",
    "    # Get the urban center polygon:\n",
    "    ucdb_city = ucdb_info.query(f'UC_NM_MN ==\"{city}\"').to_crs(crs = 'EPSG:4326')\n",
    "    # select the city and add the location and domain:\n",
    "    city_info = pd.read_csv('city_info.csv').query(f'city == \"{city}\"').to_dict('records')[0]\n",
    "    # Fix some domains (missing data for the moment in those originally assigned)\n",
    "    city_info['domain'] = cities[city]['domain']   \n",
    "    clon = city_info['lon']\n",
    "    clat = city_info['lat']\n",
    "    domain = city_info['domain']\n",
    "    \n",
    "    #REMO\n",
    "    ords = xr.open_mfdataset(root  + f'CORDEX-CORE-WG/REMO/orography/orog_{domain}_*REMO*.nc')\n",
    "    lfds = xr.open_mfdataset(root  + f'CORDEX-CORE-WG/REMO/land-sea-mask/sftlf_{domain}_*REMO*.nc')\n",
    "    ufds_orig = xr.open_dataset(root + f'CORDEX-CORE-WG/REMO/urbanfraction/orig/{domain}.nc')\n",
    "    # Fix the raw urban fraction data\n",
    "    if domain == 'EUR-11':\n",
    "        ufnp = ufds_orig.var493.values[0,6:-17,6:-5].copy()\n",
    "    else:\n",
    "        ufnp = ufds_orig.var493.values[0,9:-9,9:-9].copy()\n",
    "    ufds = ords.assign(sftuf = (('rlat','rlon'), ufnp, dict(\n",
    "    long_name = 'Urban fraction',\n",
    "    standard_name = 'urban_area_fraction',\n",
    "    units = '1',\n",
    "    cell_measures = 'area: areacella',\n",
    "    grid_mapping = 'rotated_latitude_longitude'\n",
    "    ))).drop_vars('orog')\n",
    "    # Plot the results\n",
    "    plot_static_fields(city, cities, dest, 'REMO')\n",
    "\n",
    "    #RegCM\n",
    "    ords = xr.open_mfdataset(root  + f'CORDEX-CORE-WG/RegCM/orography/orog_{domain}_*RegCM*.nc')\n",
    "    lfds = xr.open_mfdataset(root  + f'CORDEX-CORE-WG/RegCM/land-sea-mask/sftlf_{domain}_*RegCM*.nc')\n",
    "    ufds_orig = xr.open_dataset(root  + f'CORDEX-CORE-WG/RegCM/urbanfraction/orig/{domain}.nc')\n",
    "    if domain == 'NAM-22':\n",
    "        ufds_orig = ufds_orig.assign_coords({\"xlat\": ufds_orig.xlat, \"xlon\":ufds_orig.xlon})\n",
    "        #ufds_orig = ufds_orig.assign_coords({\"xlat\": ords.lat, \"xlon\":ords.lon})\n",
    "\n",
    "    # Fix the raw urban fraction data\n",
    "    ufnp = ufds_orig.urb_2d.values.sum(axis = 0)/100.\n",
    "    if domain == 'EAS-22':\n",
    "        xn = 'x'; yn = 'y'\n",
    "    elif domain == 'NAM-22':\n",
    "        xn = 'x'; yn = 'y'\n",
    "    else:\n",
    "        xn = 'jx'; yn = 'iy'\n",
    "    ufds = ufds_orig.assign(sftuf = ((yn,xn), ufnp, dict(\n",
    "    long_name = 'Urban fraction',\n",
    "    standard_name = 'urban_area_fraction',\n",
    "    units = '1',\n",
    "    cell_measures = 'area: areacella',\n",
    "    grid_mapping = 'crs'\n",
    "    )))  \n",
    "    # Plot the results\n",
    "    plot_static_fields(city, cities, dest, 'RegCM')"
   ]
  }
 ],
 "metadata": {
  "kernelspec": {
   "display_name": "Python 3 (ipykernel)",
   "language": "python",
   "name": "python3"
  },
  "language_info": {
   "codemirror_mode": {
    "name": "ipython",
    "version": 3
   },
   "file_extension": ".py",
   "mimetype": "text/x-python",
   "name": "python",
   "nbconvert_exporter": "python",
   "pygments_lexer": "ipython3",
   "version": "3.11.4"
  }
 },
 "nbformat": 4,
 "nbformat_minor": 5
}
