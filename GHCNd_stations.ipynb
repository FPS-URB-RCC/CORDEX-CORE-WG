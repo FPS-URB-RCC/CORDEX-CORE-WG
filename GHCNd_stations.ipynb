{
 "cells": [
  {
   "cell_type": "markdown",
   "id": "daf43c4d-eec8-4986-aa92-18f73da590f5",
   "metadata": {},
   "source": [
    "# GHCNd station data\n",
    "\n",
    "These are data from Global Historical Climatology Network daily (GHCNd)\n",
    "\n",
    "> https://www.ncei.noaa.gov/products/land-based-station/global-historical-climatology-network-daily\n",
    ">\n",
    "> The Global Historical Climatology Network daily (GHCNd) is an integrated database of daily climate summaries from land surface stations across the globe. GHCNd is made up of daily climate records from numerous sources that have been integrated and subjected to a common suite of quality assurance reviews.\n",
    ">\n",
    "> GHCNd contains records from more than 100,000 stations in 180 countries and territories. NCEI provides numerous daily variables, including maximum and minimum temperature, total daily precipitation, snowfall, and snow depth. About half the stations only report precipitation. Both record length and period of record vary by station and cover intervals ranging from less than a year to more than 175 years.\n"
   ]
  },
  {
   "cell_type": "code",
   "execution_count": null,
   "id": "72067974-21b3-4d8b-9a97-2648584daf24",
   "metadata": {},
   "outputs": [],
   "source": [
    "import time\n",
    "import pandas as pd\n",
    "import geopandas as gpd\n",
    "import contextily as cx\n",
    "import matplotlib.pyplot as plt\n",
    "import yaml\n",
    "import sys\n",
    "\n",
    "ghcnd_stations_url = 'https://www.ncei.noaa.gov/data/global-historical-climatology-network-daily/doc/ghcnd-stations.txt'\n",
    "ghcnd_stations_url = '/home/javi/Research/cordex-fps-urb-rcc/git/cordex-fps-urb-rcc/ghcnd-stations.txt'\n",
    "ghcnd_stations_column_names = ['code', 'lat', 'lon', 'elev', 'name', 'net', 'numcode']\n",
    "ghcnd_stations_column_widths = [   11,     9,    10,      7,     34,     4,       10 ]"
   ]
  },
  {
   "cell_type": "code",
   "execution_count": null,
   "id": "da6a1773-06da-4431-b8ae-57942ed43847",
   "metadata": {},
   "outputs": [],
   "source": [
    "df = pd.read_fwf(ghcnd_stations_url, header = 0,\n",
    "  widths = ghcnd_stations_column_widths,\n",
    "  names = ghcnd_stations_column_names\n",
    ")\n",
    "ghcnd_stations = gpd.GeoDataFrame(df, geometry=gpd.points_from_xy(df.lon, df.lat), crs = 'EPSG:4326')"
   ]
  },
  {
   "cell_type": "code",
   "execution_count": null,
   "id": "8908d8a3-f9c2-4621-9814-204c159d5afe",
   "metadata": {},
   "outputs": [],
   "source": [
    "p = ghcnd_stations.plot(figsize=(20,10), markersize=2)"
   ]
  },
  {
   "cell_type": "markdown",
   "id": "368bb429-52bb-4212-8ec6-753112cc079b",
   "metadata": {},
   "source": [
    "## Read city databases\n",
    "\n",
    "Read in OECC city info"
   ]
  },
  {
   "cell_type": "code",
   "execution_count": null,
   "id": "f6e9682d-8b61-469f-ba07-e4cb483ec78c",
   "metadata": {},
   "outputs": [],
   "source": [
    "df = pd.read_csv('city_info_out.csv', comment='#',\n",
    "  dtype = dict(domain = 'category', ktype = 'category')\n",
    ")\n",
    "city_info = gpd.GeoDataFrame(df, geometry=gpd.points_from_xy(df.lon, df.lat), crs = 'EPSG:4326')"
   ]
  },
  {
   "cell_type": "markdown",
   "id": "537ee0a1-0b44-4350-866c-0225612bfdc8",
   "metadata": {},
   "source": [
    "and the names of the currently selected cities"
   ]
  },
  {
   "cell_type": "code",
   "execution_count": null,
   "id": "91d1975c-8078-4924-9055-8ae8317f44e7",
   "metadata": {},
   "outputs": [],
   "source": [
    "with open('selected_cities.yaml') as fp:\n",
    "  selected = yaml.load(fp, Loader=yaml.FullLoader)['cordex_core_analysis']"
   ]
  },
  {
   "cell_type": "markdown",
   "id": "d4f3921f-a530-490a-8a58-60defb9420cf",
   "metadata": {},
   "source": [
    "## Plot nearby stations (functions)\n",
    "\n",
    "By default, we select those within half a degree around the city center"
   ]
  },
  {
   "cell_type": "code",
   "execution_count": null,
   "id": "05b9240c-6b1e-487d-92eb-36aa000e077c",
   "metadata": {},
   "outputs": [],
   "source": [
    "def nearby_stations(city, maxdis = 0.5):\n",
    "  citydf = city_info.query(f'city == \"{city}\"').squeeze()\n",
    "  nearby_stations = ghcnd_stations[ghcnd_stations.distance(citydf.geometry) < maxdis].to_crs(epsg=3857)\n",
    "  return(nearby_stations)\n",
    "\n",
    "def plot_nearby_stations(city, nearby_stations, maxdis = 0.5, highlight=pd.DataFrame()):\n",
    "  citydf = city_info.query(f'city == \"{city}\"').squeeze()\n",
    "  img, ext = cx.bounds2img(\n",
    "    citydf.lon - maxdis, citydf.lat - maxdis, citydf.lon + maxdis, citydf.lat + maxdis, ll=True,\n",
    "    # source=cx.providers.Stamen.Toner\n",
    "    # source=cx.providers.OpenStreetMap.Mapnik\n",
    "  )\n",
    "  ax = nearby_stations.plot(figsize=(15,15), color = 'red')\n",
    "  for x, y, label in zip(nearby_stations.geometry.x, nearby_stations.geometry.y, nearby_stations.name):\n",
    "    ax.annotate(label, xy=(x, y), xytext=(10, -10), textcoords='offset points', color = 'red')\n",
    "  if not highlight.empty:\n",
    "    highlight.plot(ax=ax, color='blue', edgecolor='white', zorder=100)\n",
    "  for x, y, label in zip(highlight.geometry.x, highlight.geometry.y, highlight.name):\n",
    "    ax.annotate(label, xy=(x, y), xytext=(10, -10), textcoords='offset points', color = 'blue', fontsize=20)\n",
    "  ax.imshow(img, extent=ext)\n",
    "  plt.title(city)\n",
    "  plt.savefig('results/pictures/Nearby_stations_cycle_' + city + '.png', facecolor='white')\n",
    "\n",
    "  #cx.add_basemap(ax, reset_extent = False)\n",
    "\n",
    "def get_ghcnd_df(code):\n",
    "    baseurl = 'http://meteo.unican.es/work/chus/ghcnd/data'\n",
    "    try:\n",
    "      rval = pd.read_csv(f'{baseurl}/{code[0]}/{code}.csv.gz', compression='gzip', index_col='DATE', parse_dates=True)\n",
    "    except:\n",
    "      print(f'Problem downloading {code}')\n",
    "      rval = pd.DataFrame()\n",
    "    return(rval)\n",
    "\n",
    "def available_vars(station):\n",
    "  return(set(station.columns).intersection({'TMIN'}))\n",
    "  #return(set(station.columns).intersection({'PRCP', 'TAVG', 'TMAX', 'TMIN', 'SNWD'}))\n",
    "\n",
    "def plot_station_timeseries(city, stations, var = 'PRCP', v_records = 0.5, idate='1979-01-01', fdate='2014-12-31'):\n",
    "  period = slice(idate, fdate)\n",
    "  ndays = (pd.to_datetime(fdate)-pd.to_datetime(idate)).days\n",
    "  valid_codes = []\n",
    "  for stn_code in stations.code:\n",
    "    stn_data = get_ghcnd_df(stn_code)\n",
    "    if stn_data.empty:\n",
    "      continue\n",
    "    availvars = available_vars(stn_data)\n",
    "    print(f'{stn_data.NAME[0]} {availvars}', end=' ')\n",
    "    if var in availvars:\n",
    "      valid_records = stn_data[var].loc[period].notna().sum()/ndays\n",
    "      print(f'  {var} has {100*valid_records:.1f}% valid records in {idate} to {fdate}')\n",
    "      if valid_records > v_records:\n",
    "        plt.figure()\n",
    "        stn_data[var].loc[period].plot(\n",
    "          figsize=(14,3),\n",
    "          xlim=(idate,fdate),\n",
    "          title = f'{city} -- {stn_data.NAME[0]} ({100*valid_records:.0f}%)'\n",
    "        )\n",
    "        valid_codes.append(stn_code)\n",
    "    else:\n",
    "      print(f'  No {var}')\n",
    "  return(stations[stations.code.isin(valid_codes)])"
   ]
  },
  {
   "cell_type": "code",
   "execution_count": null,
   "id": "32dba137-15c6-418c-836c-8e43a01b1647",
   "metadata": {},
   "outputs": [],
   "source": [
    "def plot_city(city_name, maxdis = 0.5, v_records = 0.3):\n",
    "  nearstat = nearby_stations(city_name, maxdis = maxdis)\n",
    "  if not nearstat.empty:\n",
    "    valid = plot_station_timeseries(city_name, nearstat, 'TMIN', v_records)\n",
    "    plot_nearby_stations(city_name, nearstat, maxdis= maxdis, highlight=valid)\n",
    "  else:\n",
    "    print('No nearby stations in GHCNd')"
   ]
  },
  {
   "cell_type": "code",
   "execution_count": null,
   "id": "e71ee191-e4b5-4b14-9a43-55e19da28ec5",
   "metadata": {},
   "outputs": [],
   "source": [
    "import warnings\n",
    "warnings.filterwarnings('ignore') # Hide UserWarnings alerting on the approximate distance in geographic CRS"
   ]
  },
  {
   "cell_type": "markdown",
   "id": "ead0340c-e50b-4d67-a337-634167321ab2",
   "metadata": {},
   "source": [
    "# Selected cities\n",
    "\n",
    "For each city, surrounding GHCNd stations with valid values above 50% are shown as time series. The city map displaus all surrounding stations (in red) along with those meeting the valid data criterion (in blue).\n",
    "\n",
    "Next cell contents generated by:"
   ]
  },
  {
   "cell_type": "markdown",
   "id": "9386b7be-d59e-4bf3-8e41-15e28214acf3",
   "metadata": {},
   "source": [
    "```python\n",
    "for city in selected:\n",
    "  print(f'## {city}\\nplot_city(\"{city}\")')\n",
    "```"
   ]
  },
  {
   "cell_type": "markdown",
   "id": "6e457732-dff5-4dd4-ab82-8b3bc1dda697",
   "metadata": {},
   "source": [
    "```python\n",
    "print(' · '.join([f'[{city}](#{city.replace(\" \",\"-\")})' for city in selected]))\n",
    "```"
   ]
  },
  {
   "cell_type": "markdown",
   "id": "ad54ab71-1b86-4727-8657-65490f9b5400",
   "metadata": {},
   "source": [
    "[Cairo](#Cairo) · [Lagos](#Lagos) · [Johannesburg](#Johannesburg) · [Luanda](#Luanda) · [Khartoum](#Khartoum) · [Sydney](#Sydney) · [Melbourne](#Melbourne) · [Mexico City](#Mexico-City) · [Moscow](#Moscow) · [Tashkent](#Tashkent) · [Tehran](#Tehran) · [Dhaka](#Dhaka) · [Beijing](#Beijing) · [Tokyo](#Tokyo) · [Chengdu](#Chengdu) · [Seoul](#Seoul) · [Shanghai](#Shanghai) · [Paris](#Paris) · [London](#London) · [Istanbul](#Istanbul) · [Berlin](#Berlin) · [Helsinki](#Helsinki) · [New York](#New-York) · [Chicago](#Chicago) · [Los Angeles](#Los-Angeles) · [Montreal](#Montreal) · [Toronto](#Toronto) · [Buenos Aires](#Buenos-Aires) · [Lima](#Lima) · [São Paulo](#São-Paulo) · [Santiago](#Santiago) · [Jakarta](#Jakarta) · [Quezon City [Manila]](#Quezon-City-[Manila]) · [Singapore](#Singapore) · [Mumbai](#Mumbai) · [Riyadh](#Riyadh) · [Delhi [New Delhi]](#Delhi-[New-Delhi]) · [Baghdad](#Baghdad)"
   ]
  },
  {
   "cell_type": "markdown",
   "id": "93eef7f0-82c0-45c5-8295-fff13f56dced",
   "metadata": {},
   "source": [
    "## Sydney"
   ]
  },
  {
   "cell_type": "code",
   "execution_count": null,
   "id": "614ca8ce-8c20-4932-85b2-f424b62c4343",
   "metadata": {},
   "outputs": [],
   "source": [
    "plot_city(\"London\", maxdis = 0.5, v_records = 0.5)"
   ]
  },
  {
   "cell_type": "markdown",
   "id": "cdfad493-4328-44bc-ad4a-6f957f46140b",
   "metadata": {},
   "source": [
    "## Lagos"
   ]
  },
  {
   "cell_type": "code",
   "execution_count": null,
   "id": "7c51bf75-a89b-428a-8d5d-ca09f12bdf1c",
   "metadata": {},
   "outputs": [],
   "source": [
    "plot_city(\"Lagos\")"
   ]
  },
  {
   "cell_type": "markdown",
   "id": "68e3f935-b78e-4178-81d7-cb416863f537",
   "metadata": {},
   "source": [
    "## Johannesburg"
   ]
  },
  {
   "cell_type": "code",
   "execution_count": null,
   "id": "cd373a86-c74c-41e9-805e-0f403a2dc449",
   "metadata": {},
   "outputs": [],
   "source": [
    "plot_city(\"Johannesburg\")"
   ]
  },
  {
   "cell_type": "markdown",
   "id": "8309792f-debf-4ab1-91cd-8364e11afc00",
   "metadata": {},
   "source": [
    "## Luanda"
   ]
  },
  {
   "cell_type": "code",
   "execution_count": null,
   "id": "2ed399bd-43f1-4242-aa62-1b53e03dc4af",
   "metadata": {},
   "outputs": [],
   "source": [
    "plot_city(\"Luanda\")"
   ]
  },
  {
   "cell_type": "markdown",
   "id": "180bb2ca-542a-4aa3-8e5d-3a49825ccff1",
   "metadata": {},
   "source": [
    "## Khartoum"
   ]
  },
  {
   "cell_type": "code",
   "execution_count": null,
   "id": "c2c1a258-4daa-4e5d-b11a-2b63887b72d7",
   "metadata": {},
   "outputs": [],
   "source": [
    "plot_city(\"Khartoum\")"
   ]
  },
  {
   "cell_type": "markdown",
   "id": "c895b82f-c2d1-45bf-97d6-076494ad2665",
   "metadata": {},
   "source": [
    "## Sydney"
   ]
  },
  {
   "cell_type": "code",
   "execution_count": null,
   "id": "73154ce4-bf17-4810-ba00-71a2d48dfc72",
   "metadata": {},
   "outputs": [],
   "source": [
    "plot_city(\"Sydney\")"
   ]
  },
  {
   "cell_type": "markdown",
   "id": "0f47b540-5d0a-414d-b720-03533d22ad78",
   "metadata": {},
   "source": [
    "## Melbourne"
   ]
  },
  {
   "cell_type": "code",
   "execution_count": null,
   "id": "d9f39c90-e2d1-48ce-a3df-6263b5b27c97",
   "metadata": {},
   "outputs": [],
   "source": [
    "plot_city(\"Melbourne\")"
   ]
  },
  {
   "cell_type": "markdown",
   "id": "99df021a-202f-422e-a749-d2dbf7ea71a5",
   "metadata": {},
   "source": [
    "## Mexico City"
   ]
  },
  {
   "cell_type": "code",
   "execution_count": null,
   "id": "2e7da7f5-a581-4b64-9cc4-2d0bc225ae75",
   "metadata": {},
   "outputs": [],
   "source": [
    "plot_city(\"Mexico City\")"
   ]
  },
  {
   "cell_type": "markdown",
   "id": "739e40bc-bd9e-463d-8145-8a027dedb285",
   "metadata": {},
   "source": [
    "## Moscow"
   ]
  },
  {
   "cell_type": "code",
   "execution_count": null,
   "id": "3d31f118-ff00-43bd-9488-14630a1be4b5",
   "metadata": {},
   "outputs": [],
   "source": [
    "plot_city(\"Moscow\")"
   ]
  },
  {
   "cell_type": "markdown",
   "id": "bbe0b407-cbb1-4902-8edc-84d4417f85e0",
   "metadata": {},
   "source": [
    "## Tashkent"
   ]
  },
  {
   "cell_type": "code",
   "execution_count": null,
   "id": "59c67640-30eb-4471-85c7-9ccb5a551abc",
   "metadata": {},
   "outputs": [],
   "source": [
    "plot_city(\"Tashkent\")"
   ]
  },
  {
   "cell_type": "markdown",
   "id": "dd69ccba-699f-42f5-a6d2-8f92b074924c",
   "metadata": {},
   "source": [
    "## Tehran"
   ]
  },
  {
   "cell_type": "code",
   "execution_count": null,
   "id": "9e5aae0e-80f6-421b-a618-b8f361b97fdd",
   "metadata": {},
   "outputs": [],
   "source": [
    "plot_city(\"Tehran\")"
   ]
  },
  {
   "cell_type": "markdown",
   "id": "42f87935-1527-408f-b741-cd35897d9d41",
   "metadata": {},
   "source": [
    "## Dhaka"
   ]
  },
  {
   "cell_type": "code",
   "execution_count": null,
   "id": "86362a05-dded-46df-ae52-a49257fba045",
   "metadata": {},
   "outputs": [],
   "source": [
    "plot_city(\"Dhaka\")"
   ]
  },
  {
   "cell_type": "markdown",
   "id": "33c8a209-a03c-429e-8ecf-14356fef72c6",
   "metadata": {},
   "source": [
    "## Beijing"
   ]
  },
  {
   "cell_type": "code",
   "execution_count": null,
   "id": "8b9aa1c5-86d2-4900-ac49-7d04ddc110b5",
   "metadata": {},
   "outputs": [],
   "source": [
    "plot_city(\"Beijing\", maxdis = 2)"
   ]
  },
  {
   "cell_type": "markdown",
   "id": "56753179-53b9-4033-aa96-e37d814485e9",
   "metadata": {},
   "source": [
    "## Tokyo"
   ]
  },
  {
   "cell_type": "code",
   "execution_count": null,
   "id": "77910243-0f0d-4682-ad7b-1a48079a5f5b",
   "metadata": {},
   "outputs": [],
   "source": [
    "plot_city(\"Tokyo\")"
   ]
  },
  {
   "cell_type": "markdown",
   "id": "2ecb3c44-0a45-481a-b17e-fe6677b60496",
   "metadata": {},
   "source": [
    "## Chengdu"
   ]
  },
  {
   "cell_type": "code",
   "execution_count": null,
   "id": "de405c0c-3100-4292-8113-ee094d233926",
   "metadata": {},
   "outputs": [],
   "source": [
    "plot_city(\"Chengdu\")"
   ]
  },
  {
   "cell_type": "markdown",
   "id": "da26719d-4d9a-49cb-a3fd-1a2c44e6fbae",
   "metadata": {},
   "source": [
    "## Seoul"
   ]
  },
  {
   "cell_type": "code",
   "execution_count": null,
   "id": "dd8bb000-137c-4130-8fe6-89b50f9838eb",
   "metadata": {},
   "outputs": [],
   "source": [
    "plot_city(\"Seoul\")"
   ]
  },
  {
   "cell_type": "markdown",
   "id": "a463f8b3-560d-40b0-97be-beabb6b6e15c",
   "metadata": {},
   "source": [
    "## Shanghai"
   ]
  },
  {
   "cell_type": "code",
   "execution_count": null,
   "id": "23a2e49f-b627-4b7a-bc72-f959e543bd58",
   "metadata": {},
   "outputs": [],
   "source": [
    "plot_city(\"Shanghai\")"
   ]
  },
  {
   "cell_type": "markdown",
   "id": "e6ee6ede-397e-419e-a4c5-045626a2b943",
   "metadata": {},
   "source": [
    "## Paris"
   ]
  },
  {
   "cell_type": "code",
   "execution_count": null,
   "id": "45b84575-717b-43c3-bb75-cd01b8966846",
   "metadata": {},
   "outputs": [],
   "source": [
    "plot_city(\"Paris\")"
   ]
  },
  {
   "cell_type": "markdown",
   "id": "2d1e03cb-4ad6-4f45-add0-0ec1eb2b86b0",
   "metadata": {},
   "source": [
    "## London"
   ]
  },
  {
   "cell_type": "code",
   "execution_count": null,
   "id": "06b6ad0e-565d-4907-a509-88f3fd03570e",
   "metadata": {},
   "outputs": [],
   "source": [
    "plot_city(\"London\")"
   ]
  },
  {
   "cell_type": "markdown",
   "id": "06008d76-a2d9-44ca-b251-6e47f118d6ba",
   "metadata": {},
   "source": [
    "## Istanbul"
   ]
  },
  {
   "cell_type": "code",
   "execution_count": null,
   "id": "18597dcd-3098-4b3b-ad53-88272add957b",
   "metadata": {},
   "outputs": [],
   "source": [
    "plot_city(\"Istanbul\")"
   ]
  },
  {
   "cell_type": "markdown",
   "id": "912de9b9-ed7c-4e1f-96e7-8770ace19d89",
   "metadata": {},
   "source": [
    "## Berlin"
   ]
  },
  {
   "cell_type": "code",
   "execution_count": null,
   "id": "707fe97a-2612-4ad9-a4fe-4dec25a63ab9",
   "metadata": {
    "tags": []
   },
   "outputs": [],
   "source": [
    "plot_city(\"Berlin\")"
   ]
  },
  {
   "cell_type": "markdown",
   "id": "7164dacc-cf3f-49c9-b467-1010b0ebebf9",
   "metadata": {},
   "source": [
    "## Helsinki"
   ]
  },
  {
   "cell_type": "code",
   "execution_count": null,
   "id": "c63c3f33-3e3d-4762-9d37-d28c3a87c66b",
   "metadata": {},
   "outputs": [],
   "source": [
    "plot_city(\"Helsinki\")"
   ]
  },
  {
   "cell_type": "markdown",
   "id": "d33c034c-b2d8-4793-8255-5870e74512c0",
   "metadata": {},
   "source": [
    "## New York"
   ]
  },
  {
   "cell_type": "code",
   "execution_count": null,
   "id": "6e6ec4a1-2e14-4003-b262-2fecf3f2948f",
   "metadata": {},
   "outputs": [],
   "source": [
    "plot_city(\"New York\")"
   ]
  },
  {
   "cell_type": "markdown",
   "id": "4c07fdad-c2ab-46d3-b449-5f8ee762e5f3",
   "metadata": {},
   "source": [
    "## Chicago"
   ]
  },
  {
   "cell_type": "code",
   "execution_count": null,
   "id": "8b67536c-d2fb-4321-b2aa-381822a7d1d8",
   "metadata": {},
   "outputs": [],
   "source": [
    "plot_city(\"Chicago\")"
   ]
  },
  {
   "cell_type": "markdown",
   "id": "ac0e818e-2fe1-48cf-b755-2466cd6398af",
   "metadata": {},
   "source": [
    "## Los Angeles"
   ]
  },
  {
   "cell_type": "code",
   "execution_count": null,
   "id": "4357bbd0-86aa-4919-81c5-3bbd0d82ab75",
   "metadata": {},
   "outputs": [],
   "source": [
    "plot_city(\"Los Angeles\")"
   ]
  },
  {
   "cell_type": "markdown",
   "id": "22f042c0-9d1b-4089-b967-568b4812e13a",
   "metadata": {},
   "source": [
    "## Montreal"
   ]
  },
  {
   "cell_type": "code",
   "execution_count": null,
   "id": "13130056-0619-4a7c-9489-16d2d796389e",
   "metadata": {},
   "outputs": [],
   "source": [
    "plot_city(\"Montreal\")"
   ]
  },
  {
   "cell_type": "markdown",
   "id": "15361287-3461-4a44-90b3-86f1ba6dbd39",
   "metadata": {},
   "source": [
    "## Toronto"
   ]
  },
  {
   "cell_type": "code",
   "execution_count": null,
   "id": "26f383e9-1499-41bc-aef9-3da7ff423006",
   "metadata": {},
   "outputs": [],
   "source": [
    "plot_city(\"Toronto\")"
   ]
  },
  {
   "cell_type": "markdown",
   "id": "648b875b-c90a-4ed0-9715-18ddc697bee2",
   "metadata": {},
   "source": [
    "## Buenos Aires"
   ]
  },
  {
   "cell_type": "code",
   "execution_count": null,
   "id": "ce0e2a7f-87b1-4ef6-960e-d505885a19e5",
   "metadata": {},
   "outputs": [],
   "source": [
    "plot_city(\"Buenos Aires\")"
   ]
  },
  {
   "cell_type": "markdown",
   "id": "568e521f-d0a1-40ca-8200-050489652df5",
   "metadata": {},
   "source": [
    "## Lima"
   ]
  },
  {
   "cell_type": "code",
   "execution_count": null,
   "id": "28543a45-3d00-4670-bf40-4a6296522415",
   "metadata": {},
   "outputs": [],
   "source": [
    "plot_city(\"Lima\")"
   ]
  },
  {
   "cell_type": "markdown",
   "id": "f23e125b-6419-4354-bcb2-3483605da2e9",
   "metadata": {},
   "source": [
    "## São Paulo"
   ]
  },
  {
   "cell_type": "code",
   "execution_count": null,
   "id": "8d76f81c-dd62-458e-a6eb-4cd7ea437ada",
   "metadata": {},
   "outputs": [],
   "source": [
    "plot_city(\"São Paulo\")"
   ]
  },
  {
   "cell_type": "markdown",
   "id": "3b8112b9-28d6-4f2e-a709-6ce08b90a6b7",
   "metadata": {},
   "source": [
    "## Santiago"
   ]
  },
  {
   "cell_type": "code",
   "execution_count": null,
   "id": "6de11ef6-1a43-4ef0-b637-b95c48d46882",
   "metadata": {},
   "outputs": [],
   "source": [
    "plot_city(\"Santiago\")"
   ]
  },
  {
   "cell_type": "markdown",
   "id": "59bf69fa-c59c-4fcd-9fea-40570545bda2",
   "metadata": {},
   "source": [
    "## Jakarta"
   ]
  },
  {
   "cell_type": "code",
   "execution_count": null,
   "id": "83207aec-9f3d-4486-85ac-76c2c73641cc",
   "metadata": {},
   "outputs": [],
   "source": [
    "plot_city(\"Jakarta\")"
   ]
  },
  {
   "cell_type": "markdown",
   "id": "59c57fb8-45c7-4638-94c2-0e2930c8663c",
   "metadata": {},
   "source": [
    "## Quezon City [Manila]"
   ]
  },
  {
   "cell_type": "code",
   "execution_count": null,
   "id": "c63d916d-6422-473e-8279-5ba36e2905d5",
   "metadata": {},
   "outputs": [],
   "source": [
    "plot_city(\"Quezon City [Manila]\")"
   ]
  },
  {
   "cell_type": "markdown",
   "id": "29cc687d-4877-4a0c-b816-4c0a06fb8ec1",
   "metadata": {},
   "source": [
    "## Singapore"
   ]
  },
  {
   "cell_type": "code",
   "execution_count": null,
   "id": "56561f84-4a2a-440e-9efd-a5ddb191be0a",
   "metadata": {},
   "outputs": [],
   "source": [
    "plot_city(\"Singapore\")"
   ]
  },
  {
   "cell_type": "markdown",
   "id": "5ae67cd9-e2e7-4a92-9ed1-fa2a98936201",
   "metadata": {},
   "source": [
    "## Mumbai"
   ]
  },
  {
   "cell_type": "code",
   "execution_count": null,
   "id": "e62d10b1-1433-40fd-b33d-b6167994bce6",
   "metadata": {},
   "outputs": [],
   "source": [
    "plot_city(\"Mumbai\")"
   ]
  },
  {
   "cell_type": "markdown",
   "id": "a4320646-ebe2-4fc0-a340-b75c1a336e31",
   "metadata": {},
   "source": [
    "## Riyadh"
   ]
  },
  {
   "cell_type": "code",
   "execution_count": null,
   "id": "22aa5346-04bf-4b12-8b9d-bbd7ec3ccd26",
   "metadata": {},
   "outputs": [],
   "source": [
    "plot_city(\"Riyadh\")"
   ]
  },
  {
   "cell_type": "markdown",
   "id": "0d08c14f-2a02-4252-b969-32f9edcc0665",
   "metadata": {},
   "source": [
    "## Delhi [New Delhi]"
   ]
  },
  {
   "cell_type": "code",
   "execution_count": null,
   "id": "046c2da1-6dd8-4703-a5b4-65b7e4146daf",
   "metadata": {},
   "outputs": [],
   "source": [
    "plot_city(\"Delhi [New Delhi]\")"
   ]
  },
  {
   "cell_type": "markdown",
   "id": "ed343dd3-ac80-4348-8b59-77c9a7a7b979",
   "metadata": {},
   "source": [
    "## Baghdad"
   ]
  },
  {
   "cell_type": "code",
   "execution_count": null,
   "id": "2ce934c5-7eb6-469d-b8c1-5892a43f88d4",
   "metadata": {},
   "outputs": [],
   "source": [
    "plot_city(\"Baghdad\")"
   ]
  },
  {
   "cell_type": "code",
   "execution_count": null,
   "id": "561fa500-b247-410e-a495-0275e36f9a6c",
   "metadata": {},
   "outputs": [],
   "source": []
  },
  {
   "cell_type": "code",
   "execution_count": null,
   "id": "54a32003-aa40-4108-ab52-76dd667eb7ed",
   "metadata": {},
   "outputs": [],
   "source": []
  }
 ],
 "metadata": {
  "kernelspec": {
   "display_name": "Python 3 (ipykernel)",
   "language": "python",
   "name": "python3"
  },
  "language_info": {
   "codemirror_mode": {
    "name": "ipython",
    "version": 3
   },
   "file_extension": ".py",
   "mimetype": "text/x-python",
   "name": "python",
   "nbconvert_exporter": "python",
   "pygments_lexer": "ipython3",
   "version": "3.11.4"
  }
 },
 "nbformat": 4,
 "nbformat_minor": 5
}
